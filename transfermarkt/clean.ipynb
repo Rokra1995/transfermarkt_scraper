{
 "metadata": {
  "language_info": {
   "codemirror_mode": {
    "name": "ipython",
    "version": 3
   },
   "file_extension": ".py",
   "mimetype": "text/x-python",
   "name": "python",
   "nbconvert_exporter": "python",
   "pygments_lexer": "ipython3",
   "version": "3.8.5-final"
  },
  "orig_nbformat": 2,
  "kernelspec": {
   "name": "python3",
   "display_name": "Python 3",
   "language": "python"
  }
 },
 "nbformat": 4,
 "nbformat_minor": 2,
 "cells": [
  {
   "cell_type": "code",
   "execution_count": 1,
   "metadata": {},
   "outputs": [],
   "source": [
    "import pandas as pd \n",
    "df_1 = pd.read_csv('beraterfirmen.csv')\n",
    "df_2 = pd.read_csv('beraterfirmen_info.csv')"
   ]
  },
  {
   "cell_type": "code",
   "execution_count": 2,
   "metadata": {},
   "outputs": [
    {
     "output_type": "execute_result",
     "data": {
      "text/plain": [
       "                                          Beraterfirma  \\\n",
       "0                                          SportsTotal   \n",
       "1                                 arena11 sports group   \n",
       "2                                  ROGON GmbH & Co.KG    \n",
       "3            ISMG International Sports Management GmbH   \n",
       "4                                      PRO Profil GmbH   \n",
       "..                                                 ...   \n",
       "995                                    506 SPORT CORP.   \n",
       "996                                       Tim Okovacki   \n",
       "997  GS Sportmanagement - Jörg Griesheim-André Pasc...   \n",
       "998                                         Sportswerk   \n",
       "999                                CFI Football Agents   \n",
       "\n",
       "                       Land  \\\n",
       "0               Deutschland   \n",
       "1               Deutschland   \n",
       "2               Deutschland   \n",
       "3               Deutschland   \n",
       "4               Deutschland   \n",
       "..                      ...   \n",
       "995              Costa Rica   \n",
       "996             Deutschland   \n",
       "997             Deutschland   \n",
       "998             Deutschland   \n",
       "999  Vereinigtes Königreich   \n",
       "\n",
       "                                     Transfermarktlink Spieler  \\\n",
       "0    https://www.transfermarkt.de/berater/beraterfi...      95   \n",
       "1    https://www.transfermarkt.de/berater/beraterfi...     133   \n",
       "2    https://www.transfermarkt.de/berater/beraterfi...     103   \n",
       "3    https://www.transfermarkt.de/berater/beraterfi...      88   \n",
       "4    https://www.transfermarkt.de/berater/beraterfi...     161   \n",
       "..                                                 ...     ...   \n",
       "995  https://www.transfermarkt.de/berater/beraterfi...       -   \n",
       "996  https://www.transfermarkt.de/berater/beraterfi...       3   \n",
       "997  https://www.transfermarkt.de/berater/beraterfi...       2   \n",
       "998  https://www.transfermarkt.de/berater/beraterfi...       4   \n",
       "999  https://www.transfermarkt.de/berater/beraterfi...       5   \n",
       "\n",
       "    Spieler 1. Liga Gerüchte  Gesamtmarktwert in €  \\\n",
       "0                39        6           409880000.0   \n",
       "1                21        5           533230000.0   \n",
       "2                19       11           450950000.0   \n",
       "3                17        9           217500000.0   \n",
       "4                14        3            79580000.0   \n",
       "..              ...      ...                   ...   \n",
       "995               -        -                   0.0   \n",
       "996               -        -                   0.0   \n",
       "997               -        -                   0.0   \n",
       "998               -        -                   0.0   \n",
       "999               -        -                   0.0   \n",
       "\n",
       "     Durchschnittlicher Marktwert in €  \n",
       "0                            4310000.0  \n",
       "1                            4010000.0  \n",
       "2                            4380000.0  \n",
       "3                            2470000.0  \n",
       "4                          494000000.0  \n",
       "..                                 ...  \n",
       "995                                0.0  \n",
       "996                                0.0  \n",
       "997                                0.0  \n",
       "998                                0.0  \n",
       "999                                0.0  \n",
       "\n",
       "[1000 rows x 8 columns]"
      ],
      "text/html": "<div>\n<style scoped>\n    .dataframe tbody tr th:only-of-type {\n        vertical-align: middle;\n    }\n\n    .dataframe tbody tr th {\n        vertical-align: top;\n    }\n\n    .dataframe thead th {\n        text-align: right;\n    }\n</style>\n<table border=\"1\" class=\"dataframe\">\n  <thead>\n    <tr style=\"text-align: right;\">\n      <th></th>\n      <th>Beraterfirma</th>\n      <th>Land</th>\n      <th>Transfermarktlink</th>\n      <th>Spieler</th>\n      <th>Spieler 1. Liga</th>\n      <th>Gerüchte</th>\n      <th>Gesamtmarktwert in €</th>\n      <th>Durchschnittlicher Marktwert in €</th>\n    </tr>\n  </thead>\n  <tbody>\n    <tr>\n      <th>0</th>\n      <td>SportsTotal</td>\n      <td>Deutschland</td>\n      <td>https://www.transfermarkt.de/berater/beraterfi...</td>\n      <td>95</td>\n      <td>39</td>\n      <td>6</td>\n      <td>409880000.0</td>\n      <td>4310000.0</td>\n    </tr>\n    <tr>\n      <th>1</th>\n      <td>arena11 sports group</td>\n      <td>Deutschland</td>\n      <td>https://www.transfermarkt.de/berater/beraterfi...</td>\n      <td>133</td>\n      <td>21</td>\n      <td>5</td>\n      <td>533230000.0</td>\n      <td>4010000.0</td>\n    </tr>\n    <tr>\n      <th>2</th>\n      <td>ROGON GmbH &amp; Co.KG</td>\n      <td>Deutschland</td>\n      <td>https://www.transfermarkt.de/berater/beraterfi...</td>\n      <td>103</td>\n      <td>19</td>\n      <td>11</td>\n      <td>450950000.0</td>\n      <td>4380000.0</td>\n    </tr>\n    <tr>\n      <th>3</th>\n      <td>ISMG International Sports Management GmbH</td>\n      <td>Deutschland</td>\n      <td>https://www.transfermarkt.de/berater/beraterfi...</td>\n      <td>88</td>\n      <td>17</td>\n      <td>9</td>\n      <td>217500000.0</td>\n      <td>2470000.0</td>\n    </tr>\n    <tr>\n      <th>4</th>\n      <td>PRO Profil GmbH</td>\n      <td>Deutschland</td>\n      <td>https://www.transfermarkt.de/berater/beraterfi...</td>\n      <td>161</td>\n      <td>14</td>\n      <td>3</td>\n      <td>79580000.0</td>\n      <td>494000000.0</td>\n    </tr>\n    <tr>\n      <th>...</th>\n      <td>...</td>\n      <td>...</td>\n      <td>...</td>\n      <td>...</td>\n      <td>...</td>\n      <td>...</td>\n      <td>...</td>\n      <td>...</td>\n    </tr>\n    <tr>\n      <th>995</th>\n      <td>506 SPORT CORP.</td>\n      <td>Costa Rica</td>\n      <td>https://www.transfermarkt.de/berater/beraterfi...</td>\n      <td>-</td>\n      <td>-</td>\n      <td>-</td>\n      <td>0.0</td>\n      <td>0.0</td>\n    </tr>\n    <tr>\n      <th>996</th>\n      <td>Tim Okovacki</td>\n      <td>Deutschland</td>\n      <td>https://www.transfermarkt.de/berater/beraterfi...</td>\n      <td>3</td>\n      <td>-</td>\n      <td>-</td>\n      <td>0.0</td>\n      <td>0.0</td>\n    </tr>\n    <tr>\n      <th>997</th>\n      <td>GS Sportmanagement - Jörg Griesheim-André Pasc...</td>\n      <td>Deutschland</td>\n      <td>https://www.transfermarkt.de/berater/beraterfi...</td>\n      <td>2</td>\n      <td>-</td>\n      <td>-</td>\n      <td>0.0</td>\n      <td>0.0</td>\n    </tr>\n    <tr>\n      <th>998</th>\n      <td>Sportswerk</td>\n      <td>Deutschland</td>\n      <td>https://www.transfermarkt.de/berater/beraterfi...</td>\n      <td>4</td>\n      <td>-</td>\n      <td>-</td>\n      <td>0.0</td>\n      <td>0.0</td>\n    </tr>\n    <tr>\n      <th>999</th>\n      <td>CFI Football Agents</td>\n      <td>Vereinigtes Königreich</td>\n      <td>https://www.transfermarkt.de/berater/beraterfi...</td>\n      <td>5</td>\n      <td>-</td>\n      <td>-</td>\n      <td>0.0</td>\n      <td>0.0</td>\n    </tr>\n  </tbody>\n</table>\n<p>1000 rows × 8 columns</p>\n</div>"
     },
     "metadata": {},
     "execution_count": 2
    }
   ],
   "source": [
    "df_1"
   ]
  },
  {
   "cell_type": "code",
   "execution_count": 3,
   "metadata": {},
   "outputs": [
    {
     "output_type": "execute_result",
     "data": {
      "text/plain": [
       "                               Beraterfirma                         Webseite  \\\n",
       "0                           PRO Profil GmbH                              NaN   \n",
       "1          SEG - Sports Entertainment Group  http://www.seginternational.com   \n",
       "2                         LIAN Sports Group        http://www.liansports.com   \n",
       "3    International Football Management GmbH                              NaN   \n",
       "4                           Soccertalk GmbH                www.soccertalk.de   \n",
       "..                                      ...                              ...   \n",
       "993         JDB Worldwide Football Partners                              NaN   \n",
       "994      Thorsten Weck Sportmanagement GmbH                              NaN   \n",
       "995                           Soccernetwork                              NaN   \n",
       "996                            CK66 Limited                              NaN   \n",
       "997                   4You Sportagency GmbH                              NaN   \n",
       "\n",
       "                  Webseite_2  \n",
       "0    http://www.proprofil.de  \n",
       "1                        NaN  \n",
       "2                        NaN  \n",
       "3    http://www.ifmsport.com  \n",
       "4                        NaN  \n",
       "..                       ...  \n",
       "993                      NaN  \n",
       "994                      NaN  \n",
       "995                      NaN  \n",
       "996                      NaN  \n",
       "997                      NaN  \n",
       "\n",
       "[998 rows x 3 columns]"
      ],
      "text/html": "<div>\n<style scoped>\n    .dataframe tbody tr th:only-of-type {\n        vertical-align: middle;\n    }\n\n    .dataframe tbody tr th {\n        vertical-align: top;\n    }\n\n    .dataframe thead th {\n        text-align: right;\n    }\n</style>\n<table border=\"1\" class=\"dataframe\">\n  <thead>\n    <tr style=\"text-align: right;\">\n      <th></th>\n      <th>Beraterfirma</th>\n      <th>Webseite</th>\n      <th>Webseite_2</th>\n    </tr>\n  </thead>\n  <tbody>\n    <tr>\n      <th>0</th>\n      <td>PRO Profil GmbH</td>\n      <td>NaN</td>\n      <td>http://www.proprofil.de</td>\n    </tr>\n    <tr>\n      <th>1</th>\n      <td>SEG - Sports Entertainment Group</td>\n      <td>http://www.seginternational.com</td>\n      <td>NaN</td>\n    </tr>\n    <tr>\n      <th>2</th>\n      <td>LIAN Sports Group</td>\n      <td>http://www.liansports.com</td>\n      <td>NaN</td>\n    </tr>\n    <tr>\n      <th>3</th>\n      <td>International Football Management GmbH</td>\n      <td>NaN</td>\n      <td>http://www.ifmsport.com</td>\n    </tr>\n    <tr>\n      <th>4</th>\n      <td>Soccertalk GmbH</td>\n      <td>www.soccertalk.de</td>\n      <td>NaN</td>\n    </tr>\n    <tr>\n      <th>...</th>\n      <td>...</td>\n      <td>...</td>\n      <td>...</td>\n    </tr>\n    <tr>\n      <th>993</th>\n      <td>JDB Worldwide Football Partners</td>\n      <td>NaN</td>\n      <td>NaN</td>\n    </tr>\n    <tr>\n      <th>994</th>\n      <td>Thorsten Weck Sportmanagement GmbH</td>\n      <td>NaN</td>\n      <td>NaN</td>\n    </tr>\n    <tr>\n      <th>995</th>\n      <td>Soccernetwork</td>\n      <td>NaN</td>\n      <td>NaN</td>\n    </tr>\n    <tr>\n      <th>996</th>\n      <td>CK66 Limited</td>\n      <td>NaN</td>\n      <td>NaN</td>\n    </tr>\n    <tr>\n      <th>997</th>\n      <td>4You Sportagency GmbH</td>\n      <td>NaN</td>\n      <td>NaN</td>\n    </tr>\n  </tbody>\n</table>\n<p>998 rows × 3 columns</p>\n</div>"
     },
     "metadata": {},
     "execution_count": 3
    }
   ],
   "source": [
    "df_2"
   ]
  },
  {
   "cell_type": "code",
   "execution_count": 4,
   "metadata": {},
   "outputs": [],
   "source": [
    "df_3 = df_1.merge(df_2, how=\"left\")"
   ]
  },
  {
   "cell_type": "code",
   "execution_count": 5,
   "metadata": {},
   "outputs": [
    {
     "output_type": "execute_result",
     "data": {
      "text/plain": [
       "                                          Beraterfirma  \\\n",
       "0                                          SportsTotal   \n",
       "1                                 arena11 sports group   \n",
       "2                                  ROGON GmbH & Co.KG    \n",
       "3            ISMG International Sports Management GmbH   \n",
       "4                                      PRO Profil GmbH   \n",
       "..                                                 ...   \n",
       "995                                    506 SPORT CORP.   \n",
       "996                                       Tim Okovacki   \n",
       "997  GS Sportmanagement - Jörg Griesheim-André Pasc...   \n",
       "998                                         Sportswerk   \n",
       "999                                CFI Football Agents   \n",
       "\n",
       "                       Land  \\\n",
       "0               Deutschland   \n",
       "1               Deutschland   \n",
       "2               Deutschland   \n",
       "3               Deutschland   \n",
       "4               Deutschland   \n",
       "..                      ...   \n",
       "995              Costa Rica   \n",
       "996             Deutschland   \n",
       "997             Deutschland   \n",
       "998             Deutschland   \n",
       "999  Vereinigtes Königreich   \n",
       "\n",
       "                                     Transfermarktlink Spieler  \\\n",
       "0    https://www.transfermarkt.de/berater/beraterfi...      95   \n",
       "1    https://www.transfermarkt.de/berater/beraterfi...     133   \n",
       "2    https://www.transfermarkt.de/berater/beraterfi...     103   \n",
       "3    https://www.transfermarkt.de/berater/beraterfi...      88   \n",
       "4    https://www.transfermarkt.de/berater/beraterfi...     161   \n",
       "..                                                 ...     ...   \n",
       "995  https://www.transfermarkt.de/berater/beraterfi...       -   \n",
       "996  https://www.transfermarkt.de/berater/beraterfi...       3   \n",
       "997  https://www.transfermarkt.de/berater/beraterfi...       2   \n",
       "998  https://www.transfermarkt.de/berater/beraterfi...       4   \n",
       "999  https://www.transfermarkt.de/berater/beraterfi...       5   \n",
       "\n",
       "    Spieler 1. Liga Gerüchte  Gesamtmarktwert in €  \\\n",
       "0                39        6           409880000.0   \n",
       "1                21        5           533230000.0   \n",
       "2                19       11           450950000.0   \n",
       "3                17        9           217500000.0   \n",
       "4                14        3            79580000.0   \n",
       "..              ...      ...                   ...   \n",
       "995               -        -                   0.0   \n",
       "996               -        -                   0.0   \n",
       "997               -        -                   0.0   \n",
       "998               -        -                   0.0   \n",
       "999               -        -                   0.0   \n",
       "\n",
       "     Durchschnittlicher Marktwert in €             Webseite  \\\n",
       "0                            4310000.0  www.sportstotal.com   \n",
       "1                            4010000.0                  NaN   \n",
       "2                            4380000.0                  NaN   \n",
       "3                            2470000.0          www.ismg.de   \n",
       "4                          494000000.0                  NaN   \n",
       "..                                 ...                  ...   \n",
       "995                                0.0                  NaN   \n",
       "996                                0.0                  NaN   \n",
       "997                                0.0                  NaN   \n",
       "998                                0.0                  NaN   \n",
       "999                                0.0                  NaN   \n",
       "\n",
       "                  Webseite_2  \n",
       "0                        NaN  \n",
       "1     http://www.arena11.com  \n",
       "2                        NaN  \n",
       "3                        NaN  \n",
       "4    http://www.proprofil.de  \n",
       "..                       ...  \n",
       "995                      NaN  \n",
       "996                      NaN  \n",
       "997                      NaN  \n",
       "998                      NaN  \n",
       "999                      NaN  \n",
       "\n",
       "[1000 rows x 10 columns]"
      ],
      "text/html": "<div>\n<style scoped>\n    .dataframe tbody tr th:only-of-type {\n        vertical-align: middle;\n    }\n\n    .dataframe tbody tr th {\n        vertical-align: top;\n    }\n\n    .dataframe thead th {\n        text-align: right;\n    }\n</style>\n<table border=\"1\" class=\"dataframe\">\n  <thead>\n    <tr style=\"text-align: right;\">\n      <th></th>\n      <th>Beraterfirma</th>\n      <th>Land</th>\n      <th>Transfermarktlink</th>\n      <th>Spieler</th>\n      <th>Spieler 1. Liga</th>\n      <th>Gerüchte</th>\n      <th>Gesamtmarktwert in €</th>\n      <th>Durchschnittlicher Marktwert in €</th>\n      <th>Webseite</th>\n      <th>Webseite_2</th>\n    </tr>\n  </thead>\n  <tbody>\n    <tr>\n      <th>0</th>\n      <td>SportsTotal</td>\n      <td>Deutschland</td>\n      <td>https://www.transfermarkt.de/berater/beraterfi...</td>\n      <td>95</td>\n      <td>39</td>\n      <td>6</td>\n      <td>409880000.0</td>\n      <td>4310000.0</td>\n      <td>www.sportstotal.com</td>\n      <td>NaN</td>\n    </tr>\n    <tr>\n      <th>1</th>\n      <td>arena11 sports group</td>\n      <td>Deutschland</td>\n      <td>https://www.transfermarkt.de/berater/beraterfi...</td>\n      <td>133</td>\n      <td>21</td>\n      <td>5</td>\n      <td>533230000.0</td>\n      <td>4010000.0</td>\n      <td>NaN</td>\n      <td>http://www.arena11.com</td>\n    </tr>\n    <tr>\n      <th>2</th>\n      <td>ROGON GmbH &amp; Co.KG</td>\n      <td>Deutschland</td>\n      <td>https://www.transfermarkt.de/berater/beraterfi...</td>\n      <td>103</td>\n      <td>19</td>\n      <td>11</td>\n      <td>450950000.0</td>\n      <td>4380000.0</td>\n      <td>NaN</td>\n      <td>NaN</td>\n    </tr>\n    <tr>\n      <th>3</th>\n      <td>ISMG International Sports Management GmbH</td>\n      <td>Deutschland</td>\n      <td>https://www.transfermarkt.de/berater/beraterfi...</td>\n      <td>88</td>\n      <td>17</td>\n      <td>9</td>\n      <td>217500000.0</td>\n      <td>2470000.0</td>\n      <td>www.ismg.de</td>\n      <td>NaN</td>\n    </tr>\n    <tr>\n      <th>4</th>\n      <td>PRO Profil GmbH</td>\n      <td>Deutschland</td>\n      <td>https://www.transfermarkt.de/berater/beraterfi...</td>\n      <td>161</td>\n      <td>14</td>\n      <td>3</td>\n      <td>79580000.0</td>\n      <td>494000000.0</td>\n      <td>NaN</td>\n      <td>http://www.proprofil.de</td>\n    </tr>\n    <tr>\n      <th>...</th>\n      <td>...</td>\n      <td>...</td>\n      <td>...</td>\n      <td>...</td>\n      <td>...</td>\n      <td>...</td>\n      <td>...</td>\n      <td>...</td>\n      <td>...</td>\n      <td>...</td>\n    </tr>\n    <tr>\n      <th>995</th>\n      <td>506 SPORT CORP.</td>\n      <td>Costa Rica</td>\n      <td>https://www.transfermarkt.de/berater/beraterfi...</td>\n      <td>-</td>\n      <td>-</td>\n      <td>-</td>\n      <td>0.0</td>\n      <td>0.0</td>\n      <td>NaN</td>\n      <td>NaN</td>\n    </tr>\n    <tr>\n      <th>996</th>\n      <td>Tim Okovacki</td>\n      <td>Deutschland</td>\n      <td>https://www.transfermarkt.de/berater/beraterfi...</td>\n      <td>3</td>\n      <td>-</td>\n      <td>-</td>\n      <td>0.0</td>\n      <td>0.0</td>\n      <td>NaN</td>\n      <td>NaN</td>\n    </tr>\n    <tr>\n      <th>997</th>\n      <td>GS Sportmanagement - Jörg Griesheim-André Pasc...</td>\n      <td>Deutschland</td>\n      <td>https://www.transfermarkt.de/berater/beraterfi...</td>\n      <td>2</td>\n      <td>-</td>\n      <td>-</td>\n      <td>0.0</td>\n      <td>0.0</td>\n      <td>NaN</td>\n      <td>NaN</td>\n    </tr>\n    <tr>\n      <th>998</th>\n      <td>Sportswerk</td>\n      <td>Deutschland</td>\n      <td>https://www.transfermarkt.de/berater/beraterfi...</td>\n      <td>4</td>\n      <td>-</td>\n      <td>-</td>\n      <td>0.0</td>\n      <td>0.0</td>\n      <td>NaN</td>\n      <td>NaN</td>\n    </tr>\n    <tr>\n      <th>999</th>\n      <td>CFI Football Agents</td>\n      <td>Vereinigtes Königreich</td>\n      <td>https://www.transfermarkt.de/berater/beraterfi...</td>\n      <td>5</td>\n      <td>-</td>\n      <td>-</td>\n      <td>0.0</td>\n      <td>0.0</td>\n      <td>NaN</td>\n      <td>NaN</td>\n    </tr>\n  </tbody>\n</table>\n<p>1000 rows × 10 columns</p>\n</div>"
     },
     "metadata": {},
     "execution_count": 5
    }
   ],
   "source": [
    "df_3"
   ]
  },
  {
   "cell_type": "code",
   "execution_count": 12,
   "metadata": {},
   "outputs": [],
   "source": [
    "df_3['WEB'] = df_3.Webseite.fillna(' ') + df_3.Webseite_2.fillna(' ')\n",
    "df_3 = df_3.drop(columns=['Webseite','Webseite_2'])"
   ]
  },
  {
   "cell_type": "code",
   "execution_count": 13,
   "metadata": {},
   "outputs": [],
   "source": [
    "df_3.to_csv('Beraterfirmen_final.csv')"
   ]
  },
  {
   "cell_type": "code",
   "execution_count": null,
   "metadata": {},
   "outputs": [],
   "source": []
  }
 ]
}